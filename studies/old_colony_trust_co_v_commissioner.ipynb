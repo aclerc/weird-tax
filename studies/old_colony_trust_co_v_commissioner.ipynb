{
 "cells": [
  {
   "metadata": {
    "ExecuteTime": {
     "end_time": "2024-08-30T15:39:24.487810Z",
     "start_time": "2024-08-30T15:39:24.457347Z"
    }
   },
   "cell_type": "code",
   "source": [
    "# quick estimate using sum of a geometric progression https://en.wikipedia.org/wiki/Summation\n",
    "tax_rate = 0.77\n",
    "first_payment_cents = 68116988\n",
    "final_answer_guess = first_payment_cents*1/(1-tax_rate)/100\n",
    "print(f\"final answer guess = ${final_answer_guess:,.2f}\")"
   ],
   "id": "2a695fded73f70f0",
   "outputs": [
    {
     "name": "stdout",
     "output_type": "stream",
     "text": [
      "final answer guess = $2,961,608.17\n"
     ]
    }
   ],
   "execution_count": 1
  },
  {
   "metadata": {
    "ExecuteTime": {
     "end_time": "2024-08-30T15:39:24.534598Z",
     "start_time": "2024-08-30T15:39:24.490330Z"
    }
   },
   "cell_type": "code",
   "source": [
    "from weird_tax.rounding import modern_round\n",
    "\n",
    "answer_cents = first_payment_cents\n",
    "tax_bill_cents = modern_round(first_payment_cents * tax_rate)\n",
    "payment_number = 1\n",
    "print(f\"payment number = {payment_number}, total payments = ${answer_cents/100:,.2f}, new bill = ${tax_bill_cents/100:,.2f}\")\n",
    "while tax_bill_cents > 0:\n",
    "    payment_number += 1\n",
    "    answer_cents += tax_bill_cents\n",
    "    tax_bill_cents = modern_round(tax_bill_cents * tax_rate)\n",
    "    print(f\"payment number = {payment_number}, total payments = ${answer_cents/100:,.2f}, new bill = ${tax_bill_cents/100:,.2f}\")\n",
    "\n"
   ],
   "id": "66d0e50f9f32b5bf",
   "outputs": [
    {
     "name": "stdout",
     "output_type": "stream",
     "text": [
      "payment number = 1, total payments = $681,169.88, new bill = $524,500.81\n",
      "payment number = 2, total payments = $1,205,670.69, new bill = $403,865.62\n",
      "payment number = 3, total payments = $1,609,536.31, new bill = $310,976.53\n",
      "payment number = 4, total payments = $1,920,512.84, new bill = $239,451.93\n",
      "payment number = 5, total payments = $2,159,964.77, new bill = $184,377.99\n",
      "payment number = 6, total payments = $2,344,342.76, new bill = $141,971.00\n",
      "payment number = 7, total payments = $2,486,313.76, new bill = $109,317.67\n",
      "payment number = 8, total payments = $2,595,631.43, new bill = $84,174.61\n",
      "payment number = 9, total payments = $2,679,806.04, new bill = $64,814.00\n",
      "payment number = 10, total payments = $2,744,620.04, new bill = $49,906.78\n",
      "payment number = 11, total payments = $2,794,526.82, new bill = $38,428.00\n",
      "payment number = 12, total payments = $2,832,954.82, new bill = $29,589.56\n",
      "payment number = 13, total payments = $2,862,544.38, new bill = $22,783.96\n",
      "payment number = 14, total payments = $2,885,328.34, new bill = $17,543.65\n",
      "payment number = 15, total payments = $2,902,871.99, new bill = $13,508.61\n",
      "payment number = 16, total payments = $2,916,380.60, new bill = $10,401.63\n",
      "payment number = 17, total payments = $2,926,782.23, new bill = $8,009.00\n",
      "payment number = 18, total payments = $2,934,791.23, new bill = $6,166.93\n",
      "payment number = 19, total payments = $2,940,958.16, new bill = $4,748.54\n",
      "payment number = 20, total payments = $2,945,706.70, new bill = $3,656.00\n",
      "payment number = 21, total payments = $2,949,362.70, new bill = $2,815.00\n",
      "payment number = 22, total payments = $2,952,177.70, new bill = $2,167.55\n",
      "payment number = 23, total payments = $2,954,345.25, new bill = $1,669.00\n",
      "payment number = 24, total payments = $2,956,014.25, new bill = $1,285.00\n",
      "payment number = 25, total payments = $2,957,299.25, new bill = $989.00\n",
      "payment number = 26, total payments = $2,958,288.25, new bill = $761.53\n",
      "payment number = 27, total payments = $2,959,049.78, new bill = $586.00\n",
      "payment number = 28, total payments = $2,959,635.78, new bill = $451.00\n",
      "payment number = 29, total payments = $2,960,086.78, new bill = $347.00\n",
      "payment number = 30, total payments = $2,960,433.78, new bill = $267.00\n",
      "payment number = 31, total payments = $2,960,700.78, new bill = $205.59\n",
      "payment number = 32, total payments = $2,960,906.37, new bill = $158.00\n",
      "payment number = 33, total payments = $2,961,064.37, new bill = $121.66\n",
      "payment number = 34, total payments = $2,961,186.03, new bill = $93.68\n",
      "payment number = 35, total payments = $2,961,279.71, new bill = $72.00\n",
      "payment number = 36, total payments = $2,961,351.71, new bill = $55.00\n",
      "payment number = 37, total payments = $2,961,406.71, new bill = $42.00\n",
      "payment number = 38, total payments = $2,961,448.71, new bill = $32.00\n",
      "payment number = 39, total payments = $2,961,480.71, new bill = $24.64\n",
      "payment number = 40, total payments = $2,961,505.35, new bill = $18.97\n",
      "payment number = 41, total payments = $2,961,524.32, new bill = $14.61\n",
      "payment number = 42, total payments = $2,961,538.93, new bill = $11.00\n",
      "payment number = 43, total payments = $2,961,549.93, new bill = $8.00\n",
      "payment number = 44, total payments = $2,961,557.93, new bill = $6.00\n",
      "payment number = 45, total payments = $2,961,563.93, new bill = $4.62\n",
      "payment number = 46, total payments = $2,961,568.55, new bill = $3.56\n",
      "payment number = 47, total payments = $2,961,572.11, new bill = $2.74\n",
      "payment number = 48, total payments = $2,961,574.85, new bill = $2.00\n",
      "payment number = 49, total payments = $2,961,576.85, new bill = $1.54\n",
      "payment number = 50, total payments = $2,961,578.39, new bill = $1.00\n",
      "payment number = 51, total payments = $2,961,579.39, new bill = $0.77\n",
      "payment number = 52, total payments = $2,961,580.16, new bill = $0.59\n",
      "payment number = 53, total payments = $2,961,580.75, new bill = $0.00\n"
     ]
    }
   ],
   "execution_count": 2
  }
 ],
 "metadata": {
  "kernelspec": {
   "display_name": "Python 3",
   "language": "python",
   "name": "python3"
  },
  "language_info": {
   "codemirror_mode": {
    "name": "ipython",
    "version": 2
   },
   "file_extension": ".py",
   "mimetype": "text/x-python",
   "name": "python",
   "nbconvert_exporter": "python",
   "pygments_lexer": "ipython2",
   "version": "2.7.6"
  }
 },
 "nbformat": 4,
 "nbformat_minor": 5
}
