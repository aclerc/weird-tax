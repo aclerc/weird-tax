{
 "cells": [
  {
   "metadata": {
    "ExecuteTime": {
     "end_time": "2024-08-30T14:55:09.395898Z",
     "start_time": "2024-08-30T14:55:09.385167Z"
    }
   },
   "cell_type": "code",
   "source": [
    "tax_rate = 0.77\n",
    "fisrt_payment_cents = 68116988\n",
    "final_answer_guess = fisrt_payment_cents*1/(1-tax_rate)/100\n",
    "print(f\"final_answer_guess = ${final_answer_guess:,.2f}\")"
   ],
   "id": "2a695fded73f70f0",
   "outputs": [
    {
     "name": "stdout",
     "output_type": "stream",
     "text": [
      "final_answer_guess = $2,961,608.17\n"
     ]
    }
   ],
   "execution_count": 25
  },
  {
   "metadata": {
    "ExecuteTime": {
     "end_time": "2024-08-30T14:55:09.460219Z",
     "start_time": "2024-08-30T14:55:09.434839Z"
    }
   },
   "cell_type": "code",
   "source": [
    "from weird_tax.rounding import modern_round\n",
    "\n",
    "answer_cents = fisrt_payment_cents\n",
    "tax_bill_cents = modern_round(fisrt_payment_cents * tax_rate)\n",
    "payment_number = 1\n",
    "print(f\"payment_number = {payment_number}, total payments = ${answer_cents/100:,.2f}, new_bill = {tax_bill_cents/100:,.2f}\")\n",
    "while tax_bill_cents > 0:\n",
    "    payment_number += 1\n",
    "    answer_cents += tax_bill_cents\n",
    "    tax_bill_cents = modern_round(tax_bill_cents * tax_rate)\n",
    "    print(f\"payment_number = {payment_number}, total payments = ${answer_cents/100:,.2f}, new_bill = {tax_bill_cents/100:,.2f}\")\n",
    "\n"
   ],
   "id": "66d0e50f9f32b5bf",
   "outputs": [
    {
     "name": "stdout",
     "output_type": "stream",
     "text": [
      "payment_number = 1, total payments = $681,169.88, new_bill = 524,500.81\n",
      "payment_number = 2, total payments = $1,205,670.69, new_bill = 403,865.62\n",
      "payment_number = 3, total payments = $1,609,536.31, new_bill = 310,976.53\n",
      "payment_number = 4, total payments = $1,920,512.84, new_bill = 239,451.93\n",
      "payment_number = 5, total payments = $2,159,964.77, new_bill = 184,377.99\n",
      "payment_number = 6, total payments = $2,344,342.76, new_bill = 141,971.00\n",
      "payment_number = 7, total payments = $2,486,313.76, new_bill = 109,317.67\n",
      "payment_number = 8, total payments = $2,595,631.43, new_bill = 84,174.61\n",
      "payment_number = 9, total payments = $2,679,806.04, new_bill = 64,814.00\n",
      "payment_number = 10, total payments = $2,744,620.04, new_bill = 49,906.78\n",
      "payment_number = 11, total payments = $2,794,526.82, new_bill = 38,428.00\n",
      "payment_number = 12, total payments = $2,832,954.82, new_bill = 29,589.56\n",
      "payment_number = 13, total payments = $2,862,544.38, new_bill = 22,783.96\n",
      "payment_number = 14, total payments = $2,885,328.34, new_bill = 17,543.65\n",
      "payment_number = 15, total payments = $2,902,871.99, new_bill = 13,508.61\n",
      "payment_number = 16, total payments = $2,916,380.60, new_bill = 10,401.63\n",
      "payment_number = 17, total payments = $2,926,782.23, new_bill = 8,009.00\n",
      "payment_number = 18, total payments = $2,934,791.23, new_bill = 6,166.93\n",
      "payment_number = 19, total payments = $2,940,958.16, new_bill = 4,748.54\n",
      "payment_number = 20, total payments = $2,945,706.70, new_bill = 3,656.00\n",
      "payment_number = 21, total payments = $2,949,362.70, new_bill = 2,815.00\n",
      "payment_number = 22, total payments = $2,952,177.70, new_bill = 2,167.55\n",
      "payment_number = 23, total payments = $2,954,345.25, new_bill = 1,669.00\n",
      "payment_number = 24, total payments = $2,956,014.25, new_bill = 1,285.00\n",
      "payment_number = 25, total payments = $2,957,299.25, new_bill = 989.00\n",
      "payment_number = 26, total payments = $2,958,288.25, new_bill = 761.53\n",
      "payment_number = 27, total payments = $2,959,049.78, new_bill = 586.00\n",
      "payment_number = 28, total payments = $2,959,635.78, new_bill = 451.00\n",
      "payment_number = 29, total payments = $2,960,086.78, new_bill = 347.00\n",
      "payment_number = 30, total payments = $2,960,433.78, new_bill = 267.00\n",
      "payment_number = 31, total payments = $2,960,700.78, new_bill = 205.59\n",
      "payment_number = 32, total payments = $2,960,906.37, new_bill = 158.00\n",
      "payment_number = 33, total payments = $2,961,064.37, new_bill = 121.66\n",
      "payment_number = 34, total payments = $2,961,186.03, new_bill = 93.68\n",
      "payment_number = 35, total payments = $2,961,279.71, new_bill = 72.00\n",
      "payment_number = 36, total payments = $2,961,351.71, new_bill = 55.00\n",
      "payment_number = 37, total payments = $2,961,406.71, new_bill = 42.00\n",
      "payment_number = 38, total payments = $2,961,448.71, new_bill = 32.00\n",
      "payment_number = 39, total payments = $2,961,480.71, new_bill = 24.64\n",
      "payment_number = 40, total payments = $2,961,505.35, new_bill = 18.97\n",
      "payment_number = 41, total payments = $2,961,524.32, new_bill = 14.61\n",
      "payment_number = 42, total payments = $2,961,538.93, new_bill = 11.00\n",
      "payment_number = 43, total payments = $2,961,549.93, new_bill = 8.00\n",
      "payment_number = 44, total payments = $2,961,557.93, new_bill = 6.00\n",
      "payment_number = 45, total payments = $2,961,563.93, new_bill = 4.62\n",
      "payment_number = 46, total payments = $2,961,568.55, new_bill = 3.56\n",
      "payment_number = 47, total payments = $2,961,572.11, new_bill = 2.74\n",
      "payment_number = 48, total payments = $2,961,574.85, new_bill = 2.00\n",
      "payment_number = 49, total payments = $2,961,576.85, new_bill = 1.54\n",
      "payment_number = 50, total payments = $2,961,578.39, new_bill = 1.00\n",
      "payment_number = 51, total payments = $2,961,579.39, new_bill = 0.77\n",
      "payment_number = 52, total payments = $2,961,580.16, new_bill = 0.59\n",
      "payment_number = 53, total payments = $2,961,580.75, new_bill = 0.00\n"
     ]
    }
   ],
   "execution_count": 26
  },
  {
   "metadata": {
    "ExecuteTime": {
     "end_time": "2024-08-30T14:55:09.471318Z",
     "start_time": "2024-08-30T14:55:09.460219Z"
    }
   },
   "cell_type": "code",
   "source": "",
   "id": "78a6bbd0a183b13b",
   "outputs": [],
   "execution_count": 26
  }
 ],
 "metadata": {
  "kernelspec": {
   "display_name": "Python 3",
   "language": "python",
   "name": "python3"
  },
  "language_info": {
   "codemirror_mode": {
    "name": "ipython",
    "version": 2
   },
   "file_extension": ".py",
   "mimetype": "text/x-python",
   "name": "python",
   "nbconvert_exporter": "python",
   "pygments_lexer": "ipython2",
   "version": "2.7.6"
  }
 },
 "nbformat": 4,
 "nbformat_minor": 5
}
